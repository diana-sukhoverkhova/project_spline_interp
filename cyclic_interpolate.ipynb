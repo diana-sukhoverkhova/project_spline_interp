{
  "nbformat": 4,
  "nbformat_minor": 0,
  "metadata": {
    "colab": {
      "name": "cyclic_interpolate.ipynb",
      "provenance": [],
      "collapsed_sections": []
    },
    "kernelspec": {
      "name": "python3",
      "display_name": "Python 3"
    }
  },
  "cells": [
    {
      "cell_type": "code",
      "metadata": {
        "id": "VfZ-EzkPSabv"
      },
      "source": [
        "import numpy as np\n",
        "import matplotlib.pyplot as plt\n",
        "from math import *"
      ],
      "execution_count": 2,
      "outputs": []
    },
    {
      "cell_type": "code",
      "metadata": {
        "id": "Z-4kRmeHScur"
      },
      "source": [
        "class cyclic_interp_curve:\n",
        "    '''\n",
        "    Class for cyclic curve\n",
        "    Methods:\n",
        "        1) hermit_cubic_spline - makes up a spline function and counts the value of cubic spline in Hermit form in t\n",
        "        2) draw - makes a scatter plot of initial set of dots and\n",
        "           a curve that makes up from interpolate functions\n",
        "    '''\n",
        "\n",
        "    def __init__(self, x, y, der, step):\n",
        "        self.x = x\n",
        "        self.y = y\n",
        "        self.step = step\n",
        "        self.n = len(x)\n",
        "        self.der = np.copy(der)  # vector of derivatives\n",
        "        self.der = np.append(self.der, np.array(der[0]))\n",
        "\n",
        "\n",
        "    def draw(self):\n",
        "        plt.scatter(self.x, self.y, marker='o')\n",
        "        vhcs = np.vectorize(self.hermit_cubic_spline)\n",
        "        tmp = list()\n",
        "        for i in range(0, self.n - 1):\n",
        "            tmp.append(np.arange(self.x[i], self.x[i + 1] + self.step, self.step))\n",
        "        for i in tmp:\n",
        "            plt.plot(i, vhcs(i))\n",
        "        plt.show()\n",
        "\n",
        "    def hermit_cubic_spline(self, t): \n",
        "        i = np.argmax(self.x > t) - 1\n",
        "\n",
        "        xa = self.x[i]\n",
        "        xb = self.x[i + 1]\n",
        "        ya = self.y[i]\n",
        "        yb = self.y[i + 1]\n",
        "        sa = self.der[i]\n",
        "        sb = self.der[i + 1]\n",
        "        h = xb - xa\n",
        "        m = (yb - ya) / h\n",
        "        p1 = yb * (t - xa) / h + ya * (xb - t) / h\n",
        "        p2 = (t - xa) / h * (xb - t) / h\n",
        "        p3 = (m - sb) * (t - xa) + (sa - m) * (xb - t)\n",
        "        return p1 + p2 * p3\n"
      ],
      "execution_count": 4,
      "outputs": []
    },
    {
      "cell_type": "code",
      "metadata": {
        "id": "DSJVcYhxSmvB"
      },
      "source": [
        "def cubic_spline_interpolation_first_derivatives(x,y):\n",
        "    '''\n",
        "    Function for making periodic spline interpolation based on dots (x,y)\n",
        "    arguments:\n",
        "    x,y - coordinates of given function\n",
        "    returns:\n",
        "    array of first derivatives in given dots (enough to build interp function)\n",
        "    '''\n",
        "    n = x.shape[0] - 2  # n + 2 dots given, splits into n + 1 intervals\n",
        "    s = np.zeros(n+1)\n",
        "    r = np.zeros(n+1)\n",
        "    a = np.zeros(n)\n",
        "    b = np.zeros(n+1)\n",
        "    c = np.zeros(n)\n",
        "    d = np.zeros(n+1)  # vector of constant terms\n",
        "    for i in range(n + 1):\n",
        "        s[i] = 1 / (x[i+1]-x[i])\n",
        "        r[i] = (y[i+1]-y[i])/(x[i+1]-x[i])\n",
        "    for i in range(1,n):\n",
        "        a[i-1] = s[i-1]\n",
        "        b[i] = 2*(s[i-1] + s[i])\n",
        "        c[i] = s[i]\n",
        "        d[i] = 3*(s[i-1]*r[i-1] + s[i]*r[i])\n",
        "    d[0] = s[n]*r[n] + s[0]*r[0]\n",
        "    d[n] = s[n-1]*r[n-1] + s[n]*r[n]\n",
        "    b[0] = 2*(s[n] + s[0])\n",
        "    c[0] = s[0]\n",
        "    a[n-1] = s[n-1]\n",
        "    b[n] = 2*(s[n-1]+s[n])\n",
        "    return Sherman_Morison_algorithm(a,b,c,d,s[n],s[n])\n"
      ],
      "execution_count": 5,
      "outputs": []
    },
    {
      "cell_type": "code",
      "metadata": {
        "id": "C5_-YgZHSqhX"
      },
      "source": [
        "def Sherman_Morison_algorithm(aa, bb, cc, r, alpha, beta):\n",
        "    '''\n",
        "    variables:\n",
        "    a,b,c - vectors of coefficients of tridiagonal matrix\n",
        "    r - vector of constant terms\n",
        "    alpha - element of matrix (1, n)\n",
        "    beta- element of matrix (n, 1)\n",
        "    returns:\n",
        "    solution of linear system with tridiagonal matrix with corner coefficients alpha and beta\n",
        "    '''\n",
        "    a = np.copy(aa)\n",
        "    b = np.copy(bb)\n",
        "    c = np.copy(cc)\n",
        "    n = b.shape[0]  # size\n",
        "    u = np.zeros(n)\n",
        "    v = np.zeros(n)\n",
        "    u[0] = alpha\n",
        "    u[-1] = beta\n",
        "    v[0] = 1\n",
        "    v[-1] = 1\n",
        "    b[0] -= alpha\n",
        "    b[-1] -= beta\n",
        "\n",
        "    w = Thomas_algorithm(a, b, c, r)\n",
        "    z = Thomas_algorithm(a, b, c, u)\n",
        "    x = np.zeros(n)\n",
        "    vw = v.dot(w)\n",
        "    vz = v.dot(z)\n",
        "    for i in range(n):\n",
        "        x[i] = w[i] - z[i] * (vw) / (1 + vz)\n",
        "    return x\n"
      ],
      "execution_count": 6,
      "outputs": []
    },
    {
      "cell_type": "code",
      "metadata": {
        "id": "9CK1JpnLStcC"
      },
      "source": [
        "def Thomas_algorithm(a,b,c,d):\n",
        "\n",
        "    '''\n",
        "    Implementation of Thomas algorithm.\n",
        "  \n",
        "    variables:\n",
        "        a, b, c, d - lower tridiagonal, main, upper tridiagonal vectors of a matrix and free vector (dtype=float)\n",
        "        ac, bc, cc, dc - copies of vectors a, b, c, d\n",
        "\n",
        "\n",
        "    returns:\n",
        "         х - solution vector\n",
        "\n",
        "    '''\n",
        "\n",
        "    ac, bc, cc, dc = np.copy(a), np.copy(b), np.copy(c), np.copy(d)\n",
        "    n = len(b)\n",
        "\n",
        "    # stage 1\n",
        "\n",
        "    beta = bc[0]\n",
        "    bc[0] = 1\n",
        "    cc[0] = cc[0] / beta\n",
        "    dc[0] = dc[0] / beta\n",
        "    for i in range(1, n - 1):\n",
        "        alpha = (bc[i] - cc[i - 1] * ac[i - 1])\n",
        "        beta = ac[i - 1]\n",
        "        ac[i - 1] -= ac[i - 1] * bc[i - 1]\n",
        "        bc[i] = (bc[i] - cc[i - 1] * beta) / alpha\n",
        "        cc[i] = cc[i] / alpha\n",
        "        dc[i] = (dc[i] - dc[i - 1] * beta) / alpha\n",
        "\n",
        "    i = n - 1\n",
        "    alpha = (bc[i] - cc[i - 1] * ac[i - 1])\n",
        "    beta = ac[i - 1]\n",
        "    ac[i - 1] -= ac[i - 1] * bc[i - 1]\n",
        "    bc[i] = (bc[i] - cc[i - 1] * beta) / alpha\n",
        "    dc[i] = (dc[i] - dc[i - 1] * beta) / alpha\n",
        "\n",
        "    # stage 2\n",
        "\n",
        "    x = np.zeros([n, ])\n",
        "    x[n - 1] += dc[n - 1]\n",
        "    for i in range(n - 2, -1, -1):\n",
        "        x[i] += dc[i] - cc[i] * x[i + 1]\n",
        "    return x\n"
      ],
      "execution_count": 7,
      "outputs": []
    },
    {
      "cell_type": "code",
      "metadata": {
        "id": "9tVWnEDMSytr",
        "outputId": "5ba6bebe-bd47-40b1-e142-16b85d74f7a9",
        "colab": {
          "base_uri": "https://localhost:8080/",
          "height": 264
        }
      },
      "source": [
        "x=np.array([1,2,3,4,5])\n",
        "y=np.array([2,3,4,3,2])\n",
        "spline=cyclic_interp_curve(x,y,cubic_spline_interpolation_first_derivatives(x,y),0.01)\n",
        "spline.draw()"
      ],
      "execution_count": 8,
      "outputs": [
        {
          "output_type": "display_data",
          "data": {
            "image/png": "[encoded data removed]",
            "text/plain": [
              "<Figure size 432x288 with 1 Axes>"
            ]
          },
          "metadata": {
            "tags": [],
            "needs_background": "light"
          }
        }
      ]
    },
    {
      "cell_type": "code",
      "metadata": {
        "id": "etJikRCC0ZU-",
        "outputId": "f0ff61c1-58f2-497e-cd30-2f6b8bc4ae7f",
        "colab": {
          "base_uri": "https://localhost:8080/",
          "height": 264
        }
      },
      "source": [
        "x = np.linspace(0, 10*pi, 30)\n",
        "vsin = np.vectorize(lambda x: sin(cos(x)))\n",
        "y=vsin(x)\n",
        "spline=cyclic_interp_curve(x,y,cubic_spline_interpolation_first_derivatives(x,y),0.01)\n",
        "spline.draw()"
      ],
      "execution_count": 10,
      "outputs": [
        {
          "output_type": "display_data",
          "data": {
            "image/png": "[encoded data removed]",
            "text/plain": [
              "<Figure size 432x288 with 1 Axes>"
            ]
          },
          "metadata": {
            "tags": [],
            "needs_background": "light"
          }
        }
      ]
    }
  ]
}