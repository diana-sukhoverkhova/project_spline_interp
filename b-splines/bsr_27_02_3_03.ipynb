{
  "nbformat": 4,
  "nbformat_minor": 0,
  "metadata": {
    "colab": {
      "name": "bsr 27/02-3/03.ipynb",
      "provenance": [],
      "collapsed_sections": []
    },
    "kernelspec": {
      "name": "python3",
      "display_name": "Python 3"
    }
  },
  "cells": [
    {
      "cell_type": "code",
      "metadata": {
        "id": "J0wGm_QIYUXB"
      },
      "source": [
        "import numpy as np\r\n",
        "from scipy.interpolate import _bspl\r\n",
        "import scipy.linalg as sl\r\n",
        "\r\n",
        "def circle_vector(x,l=1,r=1):\r\n",
        "    '''\r\n",
        "    returns vector of nodes on circle\r\n",
        "    '''\r\n",
        "    #assert len(x) > max(l, r)\r\n",
        "    dx = np.diff(x)\r\n",
        "    t = np.zeros(len(x) + l + r)\r\n",
        "    t[:l] = [x[0] - sum(dx[-i:]) for i in range(l,0,-1)]\r\n",
        "    t[l:-r] = x\r\n",
        "    t[-r:] = [x[-1] + sum(dx[:i]) for i in range(1,r+1)]\r\n",
        "    return t\r\n",
        "\r\n",
        "def B(x, k, i, t):\r\n",
        "    if k == 0:\r\n",
        "        if t[i] <= x < t[i+1]:\r\n",
        "            return 1.0\r\n",
        "        return 0.0\r\n",
        "    if t[i+k] == t[i]:\r\n",
        "        c1 = 0.0\r\n",
        "    else:\r\n",
        "        c1 = (x - t[i])/(t[i+k] - t[i]) * B(x, k-1, i, t)\r\n",
        "    if t[i+k+1] == t[i+1]:\r\n",
        "        c2 = 0.0\r\n",
        "    else:\r\n",
        "        c2 = (t[i+k+1] - x)/(t[i+k+1] - t[i+1]) * B(x, k-1, i+1, t)\r\n",
        "    return c1 + c2\r\n",
        "\r\n",
        "def bspline(x, t, c, k):\r\n",
        "    n = len(t) - k - 1\r\n",
        "    assert (n >= k+1) and (len(c) >= n)\r\n",
        "    return sum(c[i] * B(x, k, i, t) for i in range(n))\r\n",
        "\r\n",
        "def woodbury(A, ur, ll, b, k):\r\n",
        "    '''\r\n",
        "    Implementation of Woodbury algorithm applied to banded\r\n",
        "    matrices with two blocks in upper right and lower left\r\n",
        "    corners.\r\n",
        "    \r\n",
        "    Parameters\r\n",
        "    ----------\r\n",
        "    A : 2-D array, shape(k, n)\r\n",
        "        Matrix of diagonals of original matrix(see \r\n",
        "        'solve_banded' documentation).\r\n",
        "    ll : 2-D array, shape(bs,bs)\r\n",
        "        Lower left block matrix.\r\n",
        "    ur : 2-D array, shape(bs,bs)\r\n",
        "        Upper right block matrix.\r\n",
        "    b : 1-D array, shape(1,n)\r\n",
        "        Vector of constant terms of the SLE.\r\n",
        "        \r\n",
        "    Returns\r\n",
        "    -------\r\n",
        "    c : 1-D array, shape(1,n)\r\n",
        "        Solution of the original SLE.\r\n",
        "        \r\n",
        "    Notes\r\n",
        "    -----\r\n",
        "    SLE - system of linear equations.\r\n",
        "    \r\n",
        "    'n' should be greater than 'k', otherwise corner block\r\n",
        "    elements will intersect diagonals.\r\n",
        "    '''\r\n",
        "    k_odd = (k+1) % 2\r\n",
        "    bs = int((k-1)/2) + k_odd\r\n",
        "    n = A.shape[1] + 1\r\n",
        "    #U = np.zeros((n-1, k-1))\r\n",
        "    #V = np.zeros((k-1, n-1)) # V transpose\r\n",
        "    U = np.zeros((n-1, k-k%2))\r\n",
        "    V = np.zeros((k-k%2, n-1)) # V transpose \r\n",
        "\r\n",
        "    # upper right\r\n",
        "\r\n",
        "    U[:bs, :bs] = ur\r\n",
        "    for j in range(bs): \r\n",
        "        V[j, -bs+j] = 1\r\n",
        "\r\n",
        "    # lower left\r\n",
        "\r\n",
        "    U[-bs:, -bs:] = ll\r\n",
        "    for j in range(bs): \r\n",
        "        V[-bs+j, j] = 1\r\n",
        "    \r\n",
        "    Z = sl.solve_banded((bs-k_odd, bs), A, U[:, 0]) # z0\r\n",
        "    Z = np.expand_dims(Z, axis=0)\r\n",
        "    \r\n",
        "    #for i in range(1, k-1):\r\n",
        "    for i in range(1, k-k%2):\r\n",
        "        zi = sl.solve_banded((bs-k_odd, bs), A, U[:, i])\r\n",
        "        zi = np.expand_dims(zi, axis=0)\r\n",
        "        Z = np.concatenate((Z, zi), axis=0)\r\n",
        "\r\n",
        "    Z = Z.transpose()\r\n",
        "    #H = sl.inv(np.identity(k - 1) + V @ Z)\r\n",
        "    H = sl.inv(np.identity(k - k%2) + V @ Z)\r\n",
        "\r\n",
        "    y = sl.solve_banded((bs-k_odd, bs), A, b)\r\n",
        "    c = y - Z @ (H @ (V @ y))\r\n",
        "\r\n",
        "    return np.concatenate((c[-bs + k_odd:], c, c[: bs + 1]))\r\n",
        "\r\n",
        "def make_matrix(x,y,t,k):\r\n",
        "    '''\r\n",
        "    Returns diagonals and block elements of the matrix\r\n",
        "    formed by points (x, y) for coefficients for B-Spline\r\n",
        "    curve.\r\n",
        "    \r\n",
        "    Parameters\r\n",
        "    ----------\r\n",
        "    x : 1-D array, shape(n,)\r\n",
        "        x coordinate of points.\r\n",
        "    y : 1-D array, shape(n,).\r\n",
        "        y coordiante of points.\r\n",
        "    t : 1-D array, shape(n+2*k,)\r\n",
        "        Node vector.\r\n",
        "    k : int\r\n",
        "        Degree of B-splines.\r\n",
        "    Returns\r\n",
        "    -------\r\n",
        "    A : 2-D array, shape(k,n-1)\r\n",
        "        Diagonals of the original matrix of SLE.\r\n",
        "    ur : 2-D array, shape(offset,offset)\r\n",
        "        Upper right block of the original matrix of SLE.\r\n",
        "    ll : 2-D array, shape(offset,offset)\r\n",
        "        Lower left block of the original matrix of SLE.\r\n",
        "    Notes\r\n",
        "    -----\r\n",
        "    SLE - system of linear equations.\r\n",
        "    \r\n",
        "    'n' should be greater than 'k', otherwise corner block\r\n",
        "    elements will intersect diagonals.\r\n",
        "    offset = (k - 1) / 2\r\n",
        "    '''\r\n",
        "    n = x.size\r\n",
        "    yc = np.copy(y)\r\n",
        "    yc = yc[:-1]\r\n",
        "    A = np.zeros((k, n - 1))\r\n",
        "    for i in range(n-1):\r\n",
        "        A[:,i] = _bspl.evaluate_all_bspl(t, k, x[i], i + k)[:-1][::-1]\r\n",
        "    offset = int((k-1)/2) + (k + 1) % 2\r\n",
        "    ur = np.zeros((offset,offset))\r\n",
        "    ll = np.zeros((offset,offset))\r\n",
        "    for i in range(1,offset + 1):\r\n",
        "        A[offset - i] = np.roll(A[offset - i],i)\r\n",
        "        if k % 2 == 1 or i < offset:\r\n",
        "            A[offset + i] = np.roll(A[offset + i],-i)\r\n",
        "            ur[-i:,i-1] = np.copy(A[offset + i,-i:])\r\n",
        "        ll[-i,:i] = np.copy(A[offset - i,:i])\r\n",
        "    ur = ur.T\r\n",
        "    for i in range(1,offset):\r\n",
        "        ll[:,i] = np.roll(ll[:,i],i)\r\n",
        "        ur[:,-i-1] = np.roll(ur[:,-i-1],-i)\r\n",
        "    return A, ur, ll"
      ],
      "execution_count": 472,
      "outputs": []
    },
    {
      "cell_type": "code",
      "metadata": {
        "id": "j-Dzeel-YonJ"
      },
      "source": [
        "n = 13\r\n",
        "k = 3\r\n",
        "x = np.sort(np.random.random_sample(n) * 20 - 10)\r\n",
        "y = np.random.random_sample(n) * 200 - 100\r\n",
        "y[-1] = y[0]\r\n",
        "t = circle_vector(x,k,k)"
      ],
      "execution_count": 517,
      "outputs": []
    },
    {
      "cell_type": "code",
      "metadata": {
        "id": "l0-N1kyjYvrA"
      },
      "source": [
        "matr = np.zeros((n+k,n+k))\r\n",
        "for i in range(n):\r\n",
        "    matr[i + k - 1,i:i+k+1] = _bspl.evaluate_all_bspl(t, k, x[i], i + k)\r\n",
        "for i in range(k-1):\r\n",
        "    matr[i,:k + 1] = _bspl.evaluate_all_bspl(t, k, x[0], k, nu=i+1)\r\n",
        "    matr[i, -k-1:] = -_bspl.evaluate_all_bspl(t, k, x[-1], n+k-1, nu=i+1)\r\n",
        "matr = matr[:-1,:-1]\r\n",
        "b = np.zeros_like(matr[:,0])\r\n",
        "b[k-1:] = y"
      ],
      "execution_count": 518,
      "outputs": []
    },
    {
      "cell_type": "code",
      "metadata": {
        "colab": {
          "base_uri": "https://localhost:8080/"
        },
        "id": "NnuTfOPpcE3s",
        "outputId": "a1e72e07-dfba-4c82-dd72-22bb53fb6209"
      },
      "source": [
        "from scipy.sparse.linalg import splu\r\n",
        "from scipy.sparse import csc_matrix\r\n",
        "\r\n",
        "print(np.linalg.det(matr))\r\n",
        "\r\n",
        "lu = splu(csc_matrix(matr))\r\n",
        "diagL = lu.L.diagonal()\r\n",
        "diagU = lu.U.diagonal()\r\n",
        "'''swap_sign = minimumSwaps(lu.perm_r)\r\n",
        "print(swap_sign)\r\n",
        "sign = swap_sign*np.sign(diagL).prod()*np.sign(diagU).prod()\r\n",
        "print(sign)'''\r\n",
        "print(diagL.prod()*diagU.prod()) #*sign)"
      ],
      "execution_count": 519,
      "outputs": [
        {
          "output_type": "stream",
          "text": [
            "-1.6558019614194445e-06\n",
            "1.655801961419443e-06\n"
          ],
          "name": "stdout"
        }
      ]
    },
    {
      "cell_type": "code",
      "metadata": {
        "id": "A5vIt0vXYx_R"
      },
      "source": [
        "c = np.linalg.solve(matr,b)\r\n",
        "A,u,l = make_matrix(x,y,t,k)\r\n",
        "sol = woodbury(A,u,l,y[:-1],k)"
      ],
      "execution_count": 520,
      "outputs": []
    },
    {
      "cell_type": "code",
      "metadata": {
        "colab": {
          "base_uri": "https://localhost:8080/"
        },
        "id": "x1O7YfNLpEGG",
        "outputId": "01012b4c-fef3-428b-b425-c3713b25a968"
      },
      "source": [
        "with np.printoptions(precision=2,suppress=True):\r\n",
        "  print(A, '\\n', u,'\\n', l)"
      ],
      "execution_count": 521,
      "outputs": [
        {
          "output_type": "stream",
          "text": [
            "[[0.07 0.   0.3  0.4  0.02 0.16 0.75 0.04 0.   0.44 0.02 0.82]\n",
            " [0.18 0.52 0.58 0.65 0.53 0.24 0.94 0.14 0.55 0.61 0.18 0.92]\n",
            " [0.18 0.01 0.33 0.32 0.01 0.02 0.85 0.01 0.37 0.01 0.01 0.82]] \n",
            " [[0.82]] \n",
            " [[0.07]]\n"
          ],
          "name": "stdout"
        }
      ]
    },
    {
      "cell_type": "code",
      "metadata": {
        "colab": {
          "base_uri": "https://localhost:8080/"
        },
        "id": "TqwekrcJpMfS",
        "outputId": "57283e3e-87bc-4055-a1e3-7553dd901c8d"
      },
      "source": [
        "with np.printoptions(precision=2,suppress=True):\r\n",
        "  print(matr[k-1:])"
      ],
      "execution_count": 522,
      "outputs": [
        {
          "output_type": "stream",
          "text": [
            "[[0.82 0.18 0.   0.   0.   0.   0.   0.   0.   0.   0.   0.   0.   0.\n",
            "  0.  ]\n",
            " [0.   0.18 0.52 0.3  0.   0.   0.   0.   0.   0.   0.   0.   0.   0.\n",
            "  0.  ]\n",
            " [0.   0.   0.01 0.58 0.4  0.   0.   0.   0.   0.   0.   0.   0.   0.\n",
            "  0.  ]\n",
            " [0.   0.   0.   0.33 0.65 0.02 0.   0.   0.   0.   0.   0.   0.   0.\n",
            "  0.  ]\n",
            " [0.   0.   0.   0.   0.32 0.53 0.16 0.   0.   0.   0.   0.   0.   0.\n",
            "  0.  ]\n",
            " [0.   0.   0.   0.   0.   0.01 0.24 0.75 0.   0.   0.   0.   0.   0.\n",
            "  0.  ]\n",
            " [0.   0.   0.   0.   0.   0.   0.02 0.94 0.04 0.   0.   0.   0.   0.\n",
            "  0.  ]\n",
            " [0.   0.   0.   0.   0.   0.   0.   0.85 0.14 0.   0.   0.   0.   0.\n",
            "  0.  ]\n",
            " [0.   0.   0.   0.   0.   0.   0.   0.   0.01 0.55 0.44 0.   0.   0.\n",
            "  0.  ]\n",
            " [0.   0.   0.   0.   0.   0.   0.   0.   0.   0.37 0.61 0.02 0.   0.\n",
            "  0.  ]\n",
            " [0.   0.   0.   0.   0.   0.   0.   0.   0.   0.   0.01 0.18 0.82 0.\n",
            "  0.  ]\n",
            " [0.   0.   0.   0.   0.   0.   0.   0.   0.   0.   0.   0.01 0.92 0.07\n",
            "  0.  ]\n",
            " [0.   0.   0.   0.   0.   0.   0.   0.   0.   0.   0.   0.   0.82 0.18\n",
            "  0.  ]]\n"
          ],
          "name": "stdout"
        }
      ]
    },
    {
      "cell_type": "code",
      "metadata": {
        "colab": {
          "base_uri": "https://localhost:8080/"
        },
        "id": "dOnUK2ORY-Tt",
        "outputId": "3fc86086-7beb-4ba7-fd6e-3389d6a3eee1"
      },
      "source": [
        "np.allclose(sol, c)"
      ],
      "execution_count": 523,
      "outputs": [
        {
          "output_type": "execute_result",
          "data": {
            "text/plain": [
              "True"
            ]
          },
          "metadata": {
            "tags": []
          },
          "execution_count": 523
        }
      ]
    },
    {
      "cell_type": "code",
      "metadata": {
        "colab": {
          "base_uri": "https://localhost:8080/"
        },
        "id": "GKEEU6XUY-xq",
        "outputId": "669996d4-0d33-4dc9-98e9-f1c39518d57d"
      },
      "source": [
        "c, sol"
      ],
      "execution_count": 524,
      "outputs": [
        {
          "output_type": "execute_result",
          "data": {
            "text/plain": [
              "(array([   80.26955918,   -82.51644297,   245.4003261 ,  -200.10177734,\n",
              "          249.79200827,    24.59973891,  -460.6427198 ,   171.03844637,\n",
              "        -1574.64938608,   112.2806238 ,   -13.10608161,   156.22558447,\n",
              "           80.26955918,   -82.51644297,   245.4003261 ]),\n",
              " array([   80.26955918,   -82.51644297,   245.4003261 ,  -200.10177734,\n",
              "          249.79200827,    24.59973891,  -460.6427198 ,   171.03844637,\n",
              "        -1574.64938608,   112.2806238 ,   -13.10608161,   156.22558447,\n",
              "           80.26955918,   -82.51644297,   245.4003261 ]))"
            ]
          },
          "metadata": {
            "tags": []
          },
          "execution_count": 524
        }
      ]
    },
    {
      "cell_type": "code",
      "metadata": {
        "colab": {
          "base_uri": "https://localhost:8080/"
        },
        "id": "XF9yBMTsBhof",
        "outputId": "75d7b2d3-adc3-448a-c0c6-09e7965c13b2"
      },
      "source": [
        "np.allclose((matr @ c)[k-1:], y)"
      ],
      "execution_count": 525,
      "outputs": [
        {
          "output_type": "execute_result",
          "data": {
            "text/plain": [
              "True"
            ]
          },
          "metadata": {
            "tags": []
          },
          "execution_count": 525
        }
      ]
    },
    {
      "cell_type": "code",
      "metadata": {
        "colab": {
          "base_uri": "https://localhost:8080/"
        },
        "id": "_nIbqVK8n6I9",
        "outputId": "82d3d09b-c36a-4d0b-dada-9be00e00490d"
      },
      "source": [
        "(matr @ c)"
      ],
      "execution_count": 526,
      "outputs": [
        {
          "output_type": "execute_result",
          "data": {
            "text/plain": [
              "array([ 0.00000000e+00,  5.68434189e-14,  5.15696938e+01,  5.32141214e+01,\n",
              "       -1.25539401e+01,  9.58740038e+01,  1.90474084e+01,  1.56680225e+01,\n",
              "        8.17103119e+01, -8.07777313e+01,  3.32355437e+01,  3.68487146e+01,\n",
              "        9.33113805e+01,  7.01575716e+01,  5.15696938e+01])"
            ]
          },
          "metadata": {
            "tags": []
          },
          "execution_count": 526
        }
      ]
    },
    {
      "cell_type": "code",
      "metadata": {
        "colab": {
          "base_uri": "https://localhost:8080/"
        },
        "id": "rEe-bRk3BgIq",
        "outputId": "81986d52-dd31-4a21-dada-82edbf55843f"
      },
      "source": [
        "y"
      ],
      "execution_count": 527,
      "outputs": [
        {
          "output_type": "execute_result",
          "data": {
            "text/plain": [
              "array([ 51.56969383,  53.21412136, -12.55394008,  95.87400379,\n",
              "        19.04740837,  15.66802246,  81.7103119 , -80.77773135,\n",
              "        33.2355437 ,  36.84871461,  93.31138051,  70.15757156,\n",
              "        51.56969383])"
            ]
          },
          "metadata": {
            "tags": []
          },
          "execution_count": 527
        }
      ]
    },
    {
      "cell_type": "code",
      "metadata": {
        "colab": {
          "base_uri": "https://localhost:8080/"
        },
        "id": "mncZUT76B1aE",
        "outputId": "459039af-d4c0-4797-bb9b-4b69edabd3b6"
      },
      "source": [
        "np.allclose((matr @ sol)[k-1:] , y)"
      ],
      "execution_count": 528,
      "outputs": [
        {
          "output_type": "execute_result",
          "data": {
            "text/plain": [
              "True"
            ]
          },
          "metadata": {
            "tags": []
          },
          "execution_count": 528
        }
      ]
    },
    {
      "cell_type": "code",
      "metadata": {
        "colab": {
          "base_uri": "https://localhost:8080/"
        },
        "id": "KkxZOFY2B-Bi",
        "outputId": "8f7fd847-cb0e-4bdc-cab5-95ff8996c373"
      },
      "source": [
        "(matr @ sol)[k-1:]"
      ],
      "execution_count": 529,
      "outputs": [
        {
          "output_type": "execute_result",
          "data": {
            "text/plain": [
              "array([ 51.56969383,  53.21412136, -12.55394008,  95.87400379,\n",
              "        19.04740837,  15.66802246,  81.7103119 , -80.77773135,\n",
              "        33.2355437 ,  36.84871461,  93.31138051,  70.15757156,\n",
              "        51.56969383])"
            ]
          },
          "metadata": {
            "tags": []
          },
          "execution_count": 529
        }
      ]
    },
    {
      "cell_type": "code",
      "metadata": {
        "colab": {
          "base_uri": "https://localhost:8080/"
        },
        "id": "bCMWmEbzCiVe",
        "outputId": "ef4e550e-2291-46f7-8312-a419715f41f2"
      },
      "source": [
        "y"
      ],
      "execution_count": 530,
      "outputs": [
        {
          "output_type": "execute_result",
          "data": {
            "text/plain": [
              "array([ 51.56969383,  53.21412136, -12.55394008,  95.87400379,\n",
              "        19.04740837,  15.66802246,  81.7103119 , -80.77773135,\n",
              "        33.2355437 ,  36.84871461,  93.31138051,  70.15757156,\n",
              "        51.56969383])"
            ]
          },
          "metadata": {
            "tags": []
          },
          "execution_count": 530
        }
      ]
    },
    {
      "cell_type": "code",
      "metadata": {
        "id": "WX0wrMHSqfTW"
      },
      "source": [
        ""
      ],
      "execution_count": 530,
      "outputs": []
    }
  ]
}